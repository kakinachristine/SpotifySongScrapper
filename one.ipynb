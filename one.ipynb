{
 "cells": [
  {
   "cell_type": "code",
   "execution_count": 3,
   "outputs": [
    {
     "ename": "IndexError",
     "evalue": "list index out of range",
     "output_type": "error",
     "traceback": [
      "\u001B[1;31m---------------------------------------------------------------------------\u001B[0m",
      "\u001B[1;31mIndexError\u001B[0m                                Traceback (most recent call last)",
      "Cell \u001B[1;32mIn [3], line 16\u001B[0m\n\u001B[0;32m     12\u001B[0m sp \u001B[38;5;241m=\u001B[39m spotipy\u001B[38;5;241m.\u001B[39mSpotify(client_credentials_manager \u001B[38;5;241m=\u001B[39m client_credentials_manager)\n\u001B[0;32m     15\u001B[0m playlist_link \u001B[38;5;241m=\u001B[39m \u001B[38;5;124m\"\u001B[39m\u001B[38;5;124mhttps://open.spotify.com/track/4eZZofkV1OQ9GDqAgHqNpA?si=26eb9b083ad84565\u001B[39m\u001B[38;5;124m\"\u001B[39m\n\u001B[1;32m---> 16\u001B[0m playlist_URI \u001B[38;5;241m=\u001B[39m \u001B[43mplaylist_link\u001B[49m\u001B[38;5;241;43m.\u001B[39;49m\u001B[43msplit\u001B[49m\u001B[43m(\u001B[49m\u001B[38;5;124;43m\"\u001B[39;49m\u001B[38;5;124;43m/\u001B[39;49m\u001B[38;5;124;43m\"\u001B[39;49m\u001B[43m)\u001B[49m\u001B[43m[\u001B[49m\u001B[38;5;241;43m-\u001B[39;49m\u001B[38;5;241;43m1\u001B[39;49m\u001B[43m]\u001B[49m\u001B[38;5;241;43m.\u001B[39;49m\u001B[43msplit\u001B[49m\u001B[43m(\u001B[49m\u001B[38;5;124;43m\"\u001B[39;49m\u001B[38;5;124;43m?\u001B[39;49m\u001B[38;5;124;43m\"\u001B[39;49m\u001B[43m)\u001B[49m\u001B[43m[\u001B[49m\u001B[38;5;241;43m4\u001B[39;49m\u001B[43m]\u001B[49m\n\u001B[0;32m     17\u001B[0m track_uris \u001B[38;5;241m=\u001B[39m [x[\u001B[38;5;124m\"\u001B[39m\u001B[38;5;124mtrack\u001B[39m\u001B[38;5;124m\"\u001B[39m][\u001B[38;5;124m\"\u001B[39m\u001B[38;5;124muri\u001B[39m\u001B[38;5;124m\"\u001B[39m] \u001B[38;5;28;01mfor\u001B[39;00m x \u001B[38;5;129;01min\u001B[39;00m sp\u001B[38;5;241m.\u001B[39mplaylist_tracks(playlist_URI)[\u001B[38;5;124m\"\u001B[39m\u001B[38;5;124mitems\u001B[39m\u001B[38;5;124m\"\u001B[39m]]\n\u001B[0;32m     18\u001B[0m \u001B[38;5;28;01mfor\u001B[39;00m track \u001B[38;5;129;01min\u001B[39;00m sp\u001B[38;5;241m.\u001B[39mplaylist_tracks(playlist_URI)[\u001B[38;5;124m\"\u001B[39m\u001B[38;5;124mitems\u001B[39m\u001B[38;5;124m\"\u001B[39m]:\n\u001B[0;32m     19\u001B[0m     \u001B[38;5;66;03m#URI\u001B[39;00m\n",
      "\u001B[1;31mIndexError\u001B[0m: list index out of range"
     ]
    }
   ],
   "source": [
    "import spotipy\n",
    "from spotipy.oauth2 import SpotifyClientCredentials\n",
    "\n",
    "#Authentication - without user\n",
    "# export SPOTIPY_CLIENT_ID='your-spotify-client-id'\n",
    "# export SPOTIPY_CLIENT_SECRET='your-spotify-client-secret'\n",
    "# export SPOTIPY_REDIRECT_URI='your-app-redirect-url'\n",
    "cid = 'f350e4153ac54be89d28d064b152cfeb'\n",
    "secret = 'd252e113b8414036bb891b93428c2b51'\n",
    "\n",
    "client_credentials_manager = SpotifyClientCredentials(client_id=cid, client_secret=secret)\n",
    "sp = spotipy.Spotify(client_credentials_manager = client_credentials_manager)\n",
    "\n",
    "\n",
    "playlist_link = \"https://open.spotify.com/track/4eZZofkV1OQ9GDqAgHqNpA?si=26eb9b083ad84565\"\n",
    "playlist_URI = playlist_link.split(\"/\")[-1].split(\"?\")[0]\n",
    "track_uris = [x[\"track\"][\"uri\"] for x in sp.playlist_tracks(playlist_URI)[\"items\"]]\n",
    "for track in sp.playlist_tracks(playlist_URI)[\"items\"]:\n",
    "    #URI\n",
    "    track_uri = track[\"track\"][\"uri\"]\n",
    "\n",
    "    #Track name\n",
    "    track_name = track[\"track\"][\"name\"]\n",
    "\n",
    "    #Main Artist\n",
    "    artist_uri = track[\"track\"][\"artists\"][0][\"uri\"]\n",
    "    artist_info = sp.artist(artist_uri)\n",
    "\n",
    "    #Name, popularity, genre\n",
    "    artist_name = track[\"track\"][\"artists\"][0][\"name\"]\n",
    "    artist_pop = artist_info[\"popularity\"]\n",
    "    artist_genres = artist_info[\"genres\"]\n",
    "\n",
    "    #Album\n",
    "    album = track[\"track\"][\"album\"][\"name\"]\n",
    "\n",
    "    #Popularity of the track\n",
    "    track_pop = track[\"track\"][\"popularity\"]\n",
    "    sp.audio_features(track_uri)[1]"
   ],
   "metadata": {
    "collapsed": false,
    "pycharm": {
     "name": "#%%\n"
    }
   }
  },
  {
   "cell_type": "code",
   "execution_count": null,
   "outputs": [],
   "source": [],
   "metadata": {
    "collapsed": false,
    "pycharm": {
     "name": "#%%\n"
    }
   }
  }
 ],
 "metadata": {
  "kernelspec": {
   "display_name": "Python 3",
   "language": "python",
   "name": "python3"
  },
  "language_info": {
   "codemirror_mode": {
    "name": "ipython",
    "version": 2
   },
   "file_extension": ".py",
   "mimetype": "text/x-python",
   "name": "python",
   "nbconvert_exporter": "python",
   "pygments_lexer": "ipython2",
   "version": "2.7.6"
  }
 },
 "nbformat": 4,
 "nbformat_minor": 0
}