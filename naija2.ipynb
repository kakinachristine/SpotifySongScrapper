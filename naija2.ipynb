{
 "cells": [
  {
   "cell_type": "code",
   "execution_count": 7,
   "outputs": [
    {
     "ename": "KeyError",
     "evalue": "'beats.per.minute'",
     "output_type": "error",
     "traceback": [
      "\u001B[1;31m---------------------------------------------------------------------------\u001B[0m",
      "\u001B[1;31mKeyError\u001B[0m                                  Traceback (most recent call last)",
      "Cell \u001B[1;32mIn [7], line 53\u001B[0m\n\u001B[0;32m     50\u001B[0m         playlist_df \u001B[38;5;241m=\u001B[39m pd\u001B[38;5;241m.\u001B[39mconcat([playlist_df, track_df], ignore_index\u001B[38;5;241m=\u001B[39m\u001B[38;5;28;01mTrue\u001B[39;00m)\n\u001B[0;32m     52\u001B[0m     \u001B[38;5;28;01mreturn\u001B[39;00m playlist_df\n\u001B[1;32m---> 53\u001B[0m \u001B[38;5;28mprint\u001B[39m(\u001B[43manalyze_playlist\u001B[49m\u001B[43m(\u001B[49m\u001B[38;5;124;43m\"\u001B[39;49m\u001B[38;5;124;43mkiki\u001B[39;49m\u001B[38;5;124;43m\"\u001B[39;49m\u001B[43m,\u001B[49m\u001B[43m \u001B[49m\u001B[38;5;124;43m\"\u001B[39;49m\u001B[38;5;124;43m5wZ7h4dP1HSlu7IrPcCGcp\u001B[39;49m\u001B[38;5;124;43m\"\u001B[39;49m\u001B[43m)\u001B[49m\u001B[38;5;241m.\u001B[39mshape)\n\u001B[0;32m     54\u001B[0m \u001B[38;5;28mprint\u001B[39m(analyze_playlist(\u001B[38;5;124m\"\u001B[39m\u001B[38;5;124mkiki\u001B[39m\u001B[38;5;124m\"\u001B[39m, \u001B[38;5;124m\"\u001B[39m\u001B[38;5;124m5wZ7h4dP1HSlu7IrPcCGcp\u001B[39m\u001B[38;5;124m\"\u001B[39m))\n\u001B[0;32m     55\u001B[0m \u001B[38;5;28mprint\u001B[39m(analyze_playlist(\u001B[38;5;124m\"\u001B[39m\u001B[38;5;124mkiki\u001B[39m\u001B[38;5;124m\"\u001B[39m, \u001B[38;5;124m\"\u001B[39m\u001B[38;5;124m5wZ7h4dP1HSlu7IrPcCGcp\u001B[39m\u001B[38;5;124m\"\u001B[39m)\u001B[38;5;241m.\u001B[39mhead())\n",
      "Cell \u001B[1;32mIn [7], line 46\u001B[0m, in \u001B[0;36manalyze_playlist\u001B[1;34m(creator, playlist_id)\u001B[0m\n\u001B[0;32m     44\u001B[0m audio_features \u001B[38;5;241m=\u001B[39m sp\u001B[38;5;241m.\u001B[39maudio_features(playlist_features[\u001B[38;5;124m\"\u001B[39m\u001B[38;5;124mtrack_id\u001B[39m\u001B[38;5;124m\"\u001B[39m])[\u001B[38;5;241m0\u001B[39m]\n\u001B[0;32m     45\u001B[0m \u001B[38;5;28;01mfor\u001B[39;00m feature \u001B[38;5;129;01min\u001B[39;00m playlist_features_list[\u001B[38;5;241m4\u001B[39m:]:\n\u001B[1;32m---> 46\u001B[0m     playlist_features[feature] \u001B[38;5;241m=\u001B[39m \u001B[43maudio_features\u001B[49m\u001B[43m[\u001B[49m\u001B[43mfeature\u001B[49m\u001B[43m]\u001B[49m\n\u001B[0;32m     48\u001B[0m \u001B[38;5;66;03m# Concat the dfs\u001B[39;00m\n\u001B[0;32m     49\u001B[0m track_df \u001B[38;5;241m=\u001B[39m pd\u001B[38;5;241m.\u001B[39mDataFrame(playlist_features, index\u001B[38;5;241m=\u001B[39m[\u001B[38;5;241m0\u001B[39m])\n",
      "\u001B[1;31mKeyError\u001B[0m: 'beats.per.minute'"
     ]
    }
   ],
   "source": [
    "\n",
    "import pandas as pd\n",
    "from openpyxl import Workbook\n",
    "import spotipy\n",
    "from spotipy.oauth2 import SpotifyClientCredentials\n",
    "import time\n",
    "import numpy as np\n",
    "import pandas\n",
    "import spotipy\n",
    "import spotipy.util as util\n",
    "\n",
    "\n",
    "CLIENT_ID = \"16648648cdbd4231a5d8a451861d62f3\"\n",
    "CLIENT_SECRET = \"41ae80bbd5c64d4abf50003d2f7a970b\"\n",
    "token = spotipy.oauth2.SpotifyClientCredentials(client_id=CLIENT_ID, client_secret=CLIENT_SECRET)\n",
    "cache_token=\"BQBzBjdTAXX6SmKBZut6W0E2n208x43vho8ybv4UCa5ZV4HKByUKD2je8l_8k_O3RSSxIIf_pjNSUcG2Mw3JsbAWJ5dOurX-YoYBX7E2iSIbyzMhDJo\"\n",
    "sp = spotipy.Spotify(cache_token)\n",
    "\n",
    "sp.user_playlist_tracks(\"kiki\", \"5wZ7h4dP1HSlu7IrPcCGcp\")\n",
    "sp.user_playlist_tracks(\"spotify\", \"5wZ7h4dP1HSlu7IrPcCGcp\")\n",
    "# https://open.spotify.com/playlist/6y4MPuu1OfE1bzRRGR41fI?si=4b12466cc5f2448b\n",
    "\n",
    "def analyze_playlist(creator, playlist_id):\n",
    "    # Create empty dataframe\n",
    "    playlist_features_list = [\"artist\", \"album\", \"track_name\", \"track_id\", \"danceability\", \"energy\", \"key\", \"loudness\",\n",
    "                              \"mode\", \"speechiness\", \"instrumentalness\", \"liveness\", \"valence\", \"tempo\", \"duration_ms\",\n",
    "                              \"time_signature\"]\n",
    "\n",
    "    playlist_df = pd.DataFrame(columns=playlist_features_list)\n",
    "\n",
    "    # Loop through every track in the playlist, extract features and append the features to the playlist df\n",
    "\n",
    "    playlist = sp.user_playlist_tracks(creator, playlist_id)[\"items\"]\n",
    "    for track in playlist:\n",
    "        # Create empty dict\n",
    "        playlist_features = {}\n",
    "        # Get metadata\n",
    "        playlist_features[\"artist\"] = track[\"track\"][\"album\"][\"artists\"][0][\"name\"]\n",
    "        playlist_features[\"album\"] = track[\"track\"][\"album\"][\"name\"]\n",
    "        playlist_features[\"track_name\"] = track[\"track\"][\"name\"]\n",
    "        playlist_features[\"track_id\"] = track[\"track\"][\"id\"]\n",
    "        # playlist_features[\"beats.per.minute\"] = track[\"track\"][\"beats.per.minute\"]\n",
    "\n",
    "        # Get audio features\n",
    "        audio_features = sp.audio_features(playlist_features[\"track_id\"])[0]\n",
    "        for feature in playlist_features_list[4:]:\n",
    "            playlist_features[feature] = audio_features[feature]\n",
    "\n",
    "        # Concat the dfs\n",
    "        track_df = pd.DataFrame(playlist_features, index=[0])\n",
    "        playlist_df = pd.concat([playlist_df, track_df], ignore_index=True)\n",
    "\n",
    "    return playlist_df\n",
    "print(analyze_playlist(\"kiki\", \"5wZ7h4dP1HSlu7IrPcCGcp\").shape)\n",
    "print(analyze_playlist(\"kiki\", \"5wZ7h4dP1HSlu7IrPcCGcp\"))\n",
    "print(analyze_playlist(\"kiki\", \"5wZ7h4dP1HSlu7IrPcCGcp\").head())\n",
    "# excel\n",
    "# print(analyze_playlist(\"kiki\", \"5wZ7h4dP1HSlu7IrPcCGcp\").to_excel(\"NaijaTop100.xlsx\", index = False))\n",
    "# csv\n",
    "print(analyze_playlist(\"kiki\", \"5wZ7h4dP1HSlu7IrPcCGcp\").to_csv(\"Naija100.csv\", index = False))"
   ],
   "metadata": {
    "collapsed": false,
    "pycharm": {
     "name": "#%%\n"
    }
   }
  },
  {
   "cell_type": "code",
   "execution_count": null,
   "outputs": [],
   "source": [],
   "metadata": {
    "collapsed": false,
    "pycharm": {
     "name": "#%%\n"
    }
   }
  }
 ],
 "metadata": {
  "kernelspec": {
   "display_name": "Python 3",
   "language": "python",
   "name": "python3"
  },
  "language_info": {
   "codemirror_mode": {
    "name": "ipython",
    "version": 2
   },
   "file_extension": ".py",
   "mimetype": "text/x-python",
   "name": "python",
   "nbconvert_exporter": "python",
   "pygments_lexer": "ipython2",
   "version": "2.7.6"
  }
 },
 "nbformat": 4,
 "nbformat_minor": 0
}