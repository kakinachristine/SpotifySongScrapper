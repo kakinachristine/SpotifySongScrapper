{
 "cells": [
  {
   "cell_type": "code",
   "execution_count": 1,
   "outputs": [
    {
     "name": "stdout",
     "output_type": "stream",
     "text": [
      "(50, 4)\n",
      "     artist_name                        track_name                track_id  \\\n",
      "0  Morgan Wallen                   Whiskey Glasses  6foY66mWZN0pSRjZ408c00   \n",
      "1     The Weeknd                 I Was Never There  1cKHdTo9u0ZymJdPGSh6nq   \n",
      "2           Joji          SLOW DANCING IN THE DARK  0rKtyWc8bvkriBthvHKY8d   \n",
      "3     The Weeknd                  Call Out My Name  09mEdoA6zrmBPgTEN5qXmN   \n",
      "4       Lil Baby  Drip Too Hard (Lil Baby & Gunna)  78QR3Wp35dqAhFEc2qAGjE   \n",
      "\n",
      "   popularity  \n",
      "0          82  \n",
      "1          90  \n",
      "2          85  \n",
      "3          90  \n",
      "4          85  \n"
     ]
    }
   ],
   "source": [
    "import spotipy\n",
    "from spotipy.oauth2 import SpotifyClientCredentials\n",
    "import pandas as pd\n",
    "\n",
    "cid = 'f350e4153ac54be89d28d064b152cfeb'\n",
    "secret = 'd252e113b8414036bb891b93428c2b51'\n",
    "client_credentials_manager = SpotifyClientCredentials(client_id=cid,\n",
    "                                                      client_secret=secret)\n",
    "sp = spotipy.Spotify(client_credentials_manager=client_credentials_manager)\n",
    "playlist_link = \"https://open.spotify.com/playlist/6y4MPuu1OfE1bzRRGR41fI?si=366c4df1b5a94331\"\n",
    "artist_name = []\n",
    "track_name = []\n",
    "popularity = []\n",
    "track_id = []\n",
    "# 40 is the number\n",
    "for i in range(0, 40, 50):\n",
    "    track_results = sp.search(q='year:2018', type='track', limit=50, offset=i)\n",
    "    for i, t in enumerate(track_results['tracks']['items']):\n",
    "        artist_name.append(t['artists'][0]['name'])\n",
    "        track_name.append(t['name'])\n",
    "        track_id.append(t['id'])\n",
    "        popularity.append(t['popularity'])\n",
    "\n",
    "track_dataframe = pd.DataFrame(\n",
    "    {'artist_name': artist_name, 'track_name': track_name, 'track_id': track_id, 'popularity': popularity})\n",
    "print(track_dataframe.shape)\n",
    "print(track_dataframe.head())"
   ],
   "metadata": {
    "collapsed": false,
    "pycharm": {
     "name": "#%%\n"
    }
   }
  },
  {
   "cell_type": "code",
   "execution_count": null,
   "outputs": [],
   "source": [],
   "metadata": {
    "collapsed": false,
    "pycharm": {
     "name": "#%%\n"
    }
   }
  }
 ],
 "metadata": {
  "kernelspec": {
   "display_name": "Python 3",
   "language": "python",
   "name": "python3"
  },
  "language_info": {
   "codemirror_mode": {
    "name": "ipython",
    "version": 2
   },
   "file_extension": ".py",
   "mimetype": "text/x-python",
   "name": "python",
   "nbconvert_exporter": "python",
   "pygments_lexer": "ipython2",
   "version": "2.7.6"
  }
 },
 "nbformat": 4,
 "nbformat_minor": 0
}