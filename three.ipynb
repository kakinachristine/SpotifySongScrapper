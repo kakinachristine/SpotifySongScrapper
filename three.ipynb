{
 "cells": [
  {
   "cell_type": "code",
   "execution_count": 3,
   "outputs": [
    {
     "name": "stdout",
     "output_type": "stream",
     "text": [
      "[('Hyperventilatie', [{'danceability': 0.738, 'energy': 0.692, 'key': 5, 'loudness': -7.934, 'mode': 1, 'speechiness': 0.0502, 'acousticness': 0.546, 'instrumentalness': 0.00715, 'liveness': 0.231, 'valence': 0.593, 'tempo': 112.979, 'type': 'audio_features', 'id': '3yHt2DUM0AhAs1olpPcm7s', 'uri': 'spotify:track:3yHt2DUM0AhAs1olpPcm7s', 'track_href': 'https://api.spotify.com/v1/tracks/3yHt2DUM0AhAs1olpPcm7s', 'analysis_url': 'https://api.spotify.com/v1/audio-analysis/3yHt2DUM0AhAs1olpPcm7s', 'duration_ms': 138654, 'time_signature': 4}]), ('Last Christmas', [{'danceability': 0.735, 'energy': 0.478, 'key': 2, 'loudness': -12.472, 'mode': 1, 'speechiness': 0.0293, 'acousticness': 0.189, 'instrumentalness': 2.48e-06, 'liveness': 0.355, 'valence': 0.947, 'tempo': 107.682, 'type': 'audio_features', 'id': '2FRnf9qhLbvw8fu4IBXx78', 'uri': 'spotify:track:2FRnf9qhLbvw8fu4IBXx78', 'track_href': 'https://api.spotify.com/v1/tracks/2FRnf9qhLbvw8fu4IBXx78', 'analysis_url': 'https://api.spotify.com/v1/audio-analysis/2FRnf9qhLbvw8fu4IBXx78', 'duration_ms': 262960, 'time_signature': 4}]), (\"It Ain't Safe\", [{'danceability': 0.903, 'energy': 0.521, 'key': 1, 'loudness': -8.174, 'mode': 1, 'speechiness': 0.318, 'acousticness': 0.00799, 'instrumentalness': 0, 'liveness': 0.119, 'valence': 0.761, 'tempo': 150.018, 'type': 'audio_features', 'id': '26DdCbuwHRX1BgWeHQIn1C', 'uri': 'spotify:track:26DdCbuwHRX1BgWeHQIn1C', 'track_href': 'https://api.spotify.com/v1/tracks/26DdCbuwHRX1BgWeHQIn1C', 'analysis_url': 'https://api.spotify.com/v1/audio-analysis/26DdCbuwHRX1BgWeHQIn1C', 'duration_ms': 223411, 'time_signature': 4}]), ('Centraal Station', [{'danceability': 0.795, 'energy': 0.625, 'key': 11, 'loudness': -3.772, 'mode': 0, 'speechiness': 0.125, 'acousticness': 0.185, 'instrumentalness': 0, 'liveness': 0.192, 'valence': 0.789, 'tempo': 117.002, 'type': 'audio_features', 'id': '7KRLuW6FGjcT0erRP4SLfW', 'uri': 'spotify:track:7KRLuW6FGjcT0erRP4SLfW', 'track_href': 'https://api.spotify.com/v1/tracks/7KRLuW6FGjcT0erRP4SLfW', 'analysis_url': 'https://api.spotify.com/v1/audio-analysis/7KRLuW6FGjcT0erRP4SLfW', 'duration_ms': 141542, 'time_signature': 4}]), ('Automatisch', [{'danceability': 0.804, 'energy': 0.634, 'key': 11, 'loudness': -5.636, 'mode': 0, 'speechiness': 0.0588, 'acousticness': 0.032, 'instrumentalness': 1.56e-06, 'liveness': 0.192, 'valence': 0.852, 'tempo': 122.096, 'type': 'audio_features', 'id': '2WeAyT93f7IzrwXm3ZJMb2', 'uri': 'spotify:track:2WeAyT93f7IzrwXm3ZJMb2', 'track_href': 'https://api.spotify.com/v1/tracks/2WeAyT93f7IzrwXm3ZJMb2', 'analysis_url': 'https://api.spotify.com/v1/audio-analysis/2WeAyT93f7IzrwXm3ZJMb2', 'duration_ms': 165768, 'time_signature': 4}])]\n"
     ]
    }
   ],
   "source": [
    "import spotipy\n",
    "from spotipy.oauth2 import SpotifyClientCredentials\n",
    "\n",
    "CLIENT_ID = 'f350e4153ac54be89d28d064b152cfeb'\n",
    "CLIENT_SECRET = \"d252e113b8414036bb891b93428c2b51\"\n",
    "PLAYLIST_LINK = \"https://open.spotify.com/playlist/6y4MPuu1OfE1bzRRGR41fI?si=366c4df1b5a94331\"\n",
    "\n",
    "CLIENT_CREDENTIALS_MANAGER = SpotifyClientCredentials(\n",
    "    client_id=CLIENT_ID, client_secret=CLIENT_SECRET\n",
    ")\n",
    "SP = spotipy.Spotify(client_credentials_manager=CLIENT_CREDENTIALS_MANAGER)\n",
    "\n",
    "\n",
    "def get_playlist_uri(playlist_link):\n",
    "    return playlist_link.split(\"/\")[-1].split(\"?\")[0]\n",
    "\n",
    "\n",
    "def get_tracks():\n",
    "    tracks = []\n",
    "    playlist_uri = get_playlist_uri(PLAYLIST_LINK)\n",
    "    for track in SP.playlist_tracks(playlist_uri)[\"items\"]:\n",
    "        track_uri = track[\"track\"][\"uri\"]\n",
    "        track_name = track[\"track\"][\"name\"]\n",
    "        result = track_name, SP.audio_features(track_uri)\n",
    "        tracks.append(result)\n",
    "\n",
    "    return tracks\n",
    "the_stuff = get_tracks()\n",
    "print(the_stuff)"
   ],
   "metadata": {
    "collapsed": false,
    "pycharm": {
     "name": "#%%\n"
    }
   }
  },
  {
   "cell_type": "code",
   "execution_count": null,
   "outputs": [],
   "source": [],
   "metadata": {
    "collapsed": false,
    "pycharm": {
     "name": "#%%\n"
    }
   }
  }
 ],
 "metadata": {
  "kernelspec": {
   "display_name": "Python 3",
   "language": "python",
   "name": "python3"
  },
  "language_info": {
   "codemirror_mode": {
    "name": "ipython",
    "version": 2
   },
   "file_extension": ".py",
   "mimetype": "text/x-python",
   "name": "python",
   "nbconvert_exporter": "python",
   "pygments_lexer": "ipython2",
   "version": "2.7.6"
  }
 },
 "nbformat": 4,
 "nbformat_minor": 0
}